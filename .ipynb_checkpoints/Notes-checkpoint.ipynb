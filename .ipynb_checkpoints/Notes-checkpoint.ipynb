{
 "cells": [
  {
   "cell_type": "markdown",
   "id": "42f3bb40",
   "metadata": {},
   "source": [
    "Code to generate a tree. You can transform the graphviz file into an image using [this link](http://www.webgraphviz.com/)"
   ]
  },
  {
   "cell_type": "code",
   "execution_count": 1,
   "id": "b912aa3b",
   "metadata": {},
   "outputs": [],
   "source": [
    "from sklearn.datasets import load_iris\n",
    "from sklearn import tree\n",
    "\n",
    "\n",
    "clf = tree.DecisionTreeClassifier()\n",
    "iris = load_iris()\n",
    "\n",
    "\n",
    "clf = clf.fit(iris.data, iris.target)\n",
    "tree.export_graphviz(clf, out_file='tree.dot') \n"
   ]
  },
  {
   "cell_type": "markdown",
   "id": "f2073a54",
   "metadata": {},
   "source": [
    "First, let's import some packages."
   ]
  },
  {
   "cell_type": "code",
   "execution_count": 1,
   "id": "81933616",
   "metadata": {},
   "outputs": [],
   "source": [
    "import numpy as np\n",
    "import pandas as pd\n",
    "import sklearn\n",
    "\n",
    "\n",
    "# Plotting library\n",
    "import matplotlib.pyplot as plt\n",
    "\n",
    "\n",
    "# Preprocessing functions\n",
    "from sklearn.model_selection import train_test_split\n",
    "from sklearn import preprocessing\n",
    "\n",
    "\n",
    "# ML functions\n",
    "from sklearn.ensemble import RandomForestRegressor\n",
    "from sklearn.ensemble import GradientBoostingRegressor\n"
   ]
  },
  {
   "cell_type": "markdown",
   "id": "7407a6f9",
   "metadata": {},
   "source": [
    "Second, let's import the data."
   ]
  },
  {
   "cell_type": "code",
   "execution_count": 3,
   "id": "388ad929",
   "metadata": {},
   "outputs": [
    {
     "name": "stdout",
     "output_type": "stream",
     "text": [
      "Size of the data:  (740, 21)\n",
      "number of features:  20\n"
     ]
    }
   ],
   "source": [
    "# Import the data\n",
    "# Change the following line according to your directory\n",
    "data = pd.read_csv('absenteeism/Absenteeism_at_work.csv',\n",
    "                   header=0,delimiter=\";\")\n",
    "print(\"Size of the data: \", data.shape)\n",
    "\n",
    "\n",
    "# Converting pandas dataframe to numpy (just for convenience)\n",
    "col_names = list(data.columns)\n",
    "data = np.array(data)\n",
    "data_X = data[:,:-1]\n",
    "data_Y = data[:,-1]\n",
    "n_feature = data_X.shape[1]\n",
    "print(\"number of features: \", n_feature)\n",
    "\n",
    "\n",
    "# Generate Train/Test data\n",
    "X_train, X_test, y_train, y_test = train_test_split(\n",
    "       data_X, data_Y, test_size=0.33, random_state=0)\n"
   ]
  },
  {
   "cell_type": "markdown",
   "id": "98a7a32a",
   "metadata": {},
   "source": [
    "Third, we train a random forest model with n_estimators=30 (i.e. B=30)."
   ]
  },
  {
   "cell_type": "code",
   "execution_count": 4,
   "id": "7a922fff",
   "metadata": {},
   "outputs": [
    {
     "data": {
      "text/html": [
       "<style>#sk-container-id-1 {color: black;background-color: white;}#sk-container-id-1 pre{padding: 0;}#sk-container-id-1 div.sk-toggleable {background-color: white;}#sk-container-id-1 label.sk-toggleable__label {cursor: pointer;display: block;width: 100%;margin-bottom: 0;padding: 0.3em;box-sizing: border-box;text-align: center;}#sk-container-id-1 label.sk-toggleable__label-arrow:before {content: \"▸\";float: left;margin-right: 0.25em;color: #696969;}#sk-container-id-1 label.sk-toggleable__label-arrow:hover:before {color: black;}#sk-container-id-1 div.sk-estimator:hover label.sk-toggleable__label-arrow:before {color: black;}#sk-container-id-1 div.sk-toggleable__content {max-height: 0;max-width: 0;overflow: hidden;text-align: left;background-color: #f0f8ff;}#sk-container-id-1 div.sk-toggleable__content pre {margin: 0.2em;color: black;border-radius: 0.25em;background-color: #f0f8ff;}#sk-container-id-1 input.sk-toggleable__control:checked~div.sk-toggleable__content {max-height: 200px;max-width: 100%;overflow: auto;}#sk-container-id-1 input.sk-toggleable__control:checked~label.sk-toggleable__label-arrow:before {content: \"▾\";}#sk-container-id-1 div.sk-estimator input.sk-toggleable__control:checked~label.sk-toggleable__label {background-color: #d4ebff;}#sk-container-id-1 div.sk-label input.sk-toggleable__control:checked~label.sk-toggleable__label {background-color: #d4ebff;}#sk-container-id-1 input.sk-hidden--visually {border: 0;clip: rect(1px 1px 1px 1px);clip: rect(1px, 1px, 1px, 1px);height: 1px;margin: -1px;overflow: hidden;padding: 0;position: absolute;width: 1px;}#sk-container-id-1 div.sk-estimator {font-family: monospace;background-color: #f0f8ff;border: 1px dotted black;border-radius: 0.25em;box-sizing: border-box;margin-bottom: 0.5em;}#sk-container-id-1 div.sk-estimator:hover {background-color: #d4ebff;}#sk-container-id-1 div.sk-parallel-item::after {content: \"\";width: 100%;border-bottom: 1px solid gray;flex-grow: 1;}#sk-container-id-1 div.sk-label:hover label.sk-toggleable__label {background-color: #d4ebff;}#sk-container-id-1 div.sk-serial::before {content: \"\";position: absolute;border-left: 1px solid gray;box-sizing: border-box;top: 0;bottom: 0;left: 50%;z-index: 0;}#sk-container-id-1 div.sk-serial {display: flex;flex-direction: column;align-items: center;background-color: white;padding-right: 0.2em;padding-left: 0.2em;position: relative;}#sk-container-id-1 div.sk-item {position: relative;z-index: 1;}#sk-container-id-1 div.sk-parallel {display: flex;align-items: stretch;justify-content: center;background-color: white;position: relative;}#sk-container-id-1 div.sk-item::before, #sk-container-id-1 div.sk-parallel-item::before {content: \"\";position: absolute;border-left: 1px solid gray;box-sizing: border-box;top: 0;bottom: 0;left: 50%;z-index: -1;}#sk-container-id-1 div.sk-parallel-item {display: flex;flex-direction: column;z-index: 1;position: relative;background-color: white;}#sk-container-id-1 div.sk-parallel-item:first-child::after {align-self: flex-end;width: 50%;}#sk-container-id-1 div.sk-parallel-item:last-child::after {align-self: flex-start;width: 50%;}#sk-container-id-1 div.sk-parallel-item:only-child::after {width: 0;}#sk-container-id-1 div.sk-dashed-wrapped {border: 1px dashed gray;margin: 0 0.4em 0.5em 0.4em;box-sizing: border-box;padding-bottom: 0.4em;background-color: white;}#sk-container-id-1 div.sk-label label {font-family: monospace;font-weight: bold;display: inline-block;line-height: 1.2em;}#sk-container-id-1 div.sk-label-container {text-align: center;}#sk-container-id-1 div.sk-container {/* jupyter's `normalize.less` sets `[hidden] { display: none; }` but bootstrap.min.css set `[hidden] { display: none !important; }` so we also need the `!important` here to be able to override the default hidden behavior on the sphinx rendered scikit-learn.org. See: https://github.com/scikit-learn/scikit-learn/issues/21755 */display: inline-block !important;position: relative;}#sk-container-id-1 div.sk-text-repr-fallback {display: none;}</style><div id=\"sk-container-id-1\" class=\"sk-top-container\"><div class=\"sk-text-repr-fallback\"><pre>RandomForestRegressor(n_estimators=30)</pre><b>In a Jupyter environment, please rerun this cell to show the HTML representation or trust the notebook. <br />On GitHub, the HTML representation is unable to render, please try loading this page with nbviewer.org.</b></div><div class=\"sk-container\" hidden><div class=\"sk-item\"><div class=\"sk-estimator sk-toggleable\"><input class=\"sk-toggleable__control sk-hidden--visually\" id=\"sk-estimator-id-1\" type=\"checkbox\" checked><label for=\"sk-estimator-id-1\" class=\"sk-toggleable__label sk-toggleable__label-arrow\">RandomForestRegressor</label><div class=\"sk-toggleable__content\"><pre>RandomForestRegressor(n_estimators=30)</pre></div></div></div></div></div>"
      ],
      "text/plain": [
       "RandomForestRegressor(n_estimators=30)"
      ]
     },
     "execution_count": 4,
     "metadata": {},
     "output_type": "execute_result"
    }
   ],
   "source": [
    "# Train a random forest model\n",
    "RF_model = RandomForestRegressor(n_estimators=30)\n",
    "RF_model.fit(X_train, y_train)\n"
   ]
  },
  {
   "cell_type": "markdown",
   "id": "5ff842d2",
   "metadata": {},
   "source": [
    "The following code prints the list of input variables in decreasing order of feature importance. In the language of Python, RF_model is an object and feature_importances_, among others, is one attribute of the object."
   ]
  },
  {
   "cell_type": "code",
   "execution_count": 5,
   "id": "95c4ce97",
   "metadata": {},
   "outputs": [
    {
     "name": "stdout",
     "output_type": "stream",
     "text": [
      "Feature ranking:\n",
      "1. Reason for absence (0.178507)\n",
      "2. Month of absence (0.132023)\n",
      "3. Work load Average/day  (0.122011)\n",
      "4. Age (0.094946)\n",
      "5. Hit target (0.072252)\n",
      "6. ID (0.063259)\n",
      "7. Seasons (0.060775)\n",
      "8. Transportation expense (0.058365)\n",
      "9. Height (0.055908)\n",
      "10. Day of the week (0.043422)\n",
      "11. Weight (0.039610)\n",
      "12. Body mass index (0.021100)\n",
      "13. Son (0.020294)\n",
      "14. Distance from Residence to Work (0.011984)\n",
      "15. Service time (0.008949)\n",
      "16. Disciplinary failure (0.005007)\n",
      "17. Pet (0.003985)\n",
      "18. Social drinker (0.003959)\n",
      "19. Education (0.002403)\n",
      "20. Social smoker (0.001241)\n"
     ]
    }
   ],
   "source": [
    "importances = RF_model.feature_importances_\n",
    "indices = np.argsort(importances)[::-1]\n",
    "# Print the feature ranking\n",
    "print(\"Feature ranking:\")\n",
    "for f in range(len(indices)):\n",
    "    print(\"%d. %s (%f)\" % (f + 1, col_names[indices[f]], importances[indices[f]]))\n"
   ]
  },
  {
   "cell_type": "code",
   "execution_count": null,
   "id": "72de8503",
   "metadata": {},
   "outputs": [],
   "source": []
  }
 ],
 "metadata": {
  "kernelspec": {
   "display_name": "Python 3 (ipykernel)",
   "language": "python",
   "name": "python3"
  },
  "language_info": {
   "codemirror_mode": {
    "name": "ipython",
    "version": 3
   },
   "file_extension": ".py",
   "mimetype": "text/x-python",
   "name": "python",
   "nbconvert_exporter": "python",
   "pygments_lexer": "ipython3",
   "version": "3.8.16"
  }
 },
 "nbformat": 4,
 "nbformat_minor": 5
}

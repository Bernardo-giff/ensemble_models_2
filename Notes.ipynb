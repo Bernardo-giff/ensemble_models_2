{
 "cells": [
  {
   "cell_type": "markdown",
   "id": "42f3bb40",
   "metadata": {},
   "source": [
    "Code to generate a tree. You can transform the graphviz file into an image using [this link](http://www.webgraphviz.com/)"
   ]
  },
  {
   "cell_type": "code",
   "execution_count": 1,
   "id": "b912aa3b",
   "metadata": {},
   "outputs": [],
   "source": [
    "from sklearn.datasets import load_iris\n",
    "from sklearn import tree\n",
    "\n",
    "\n",
    "clf = tree.DecisionTreeClassifier()\n",
    "iris = load_iris()\n",
    "\n",
    "\n",
    "clf = clf.fit(iris.data, iris.target)\n",
    "tree.export_graphviz(clf, out_file='tree.dot') \n"
   ]
  }
 ],
 "metadata": {
  "kernelspec": {
   "display_name": "Python 3 (ipykernel)",
   "language": "python",
   "name": "python3"
  },
  "language_info": {
   "codemirror_mode": {
    "name": "ipython",
    "version": 3
   },
   "file_extension": ".py",
   "mimetype": "text/x-python",
   "name": "python",
   "nbconvert_exporter": "python",
   "pygments_lexer": "ipython3",
   "version": "3.8.16"
  }
 },
 "nbformat": 4,
 "nbformat_minor": 5
}
